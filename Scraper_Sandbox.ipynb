{
 "cells": [
  {
   "cell_type": "code",
   "execution_count": 12,
   "metadata": {
    "collapsed": false
   },
   "outputs": [
    {
     "name": "stdout",
     "output_type": "stream",
     "text": [
      "Success\n",
      "Amir Haddad\n"
     ]
    }
   ],
   "source": [
    "#selenium used to work with JavaScript, not needed for now\n",
    "from bs4 import BeautifulSoup\n",
    "import requests\n",
    "from selenium import webdriver\n",
    "import time\n",
    "driver = webdriver.Firefox()\n",
    "webdriver.FirefoxProfile('C:/Users/Kathleen/AppData/Roaming/Mozilla/Firefox/Profiles/hwxv4yvh.ailalink_scraper')\n",
    "driver.get('https://en.wikipedia.org/wiki/Eurovision_Song_Contest_2017')\n",
    "print(\"Success\")\n",
    "driver.get(\"https://en.wikipedia.org/wiki/Amir_Haddad\")\n",
    "title= driver.find_element_by_class_name(\"firstHeading\")\n",
    "page_title = title.text\n",
    "print(page_title)\n"
   ]
  },
  {
   "cell_type": "code",
   "execution_count": 5,
   "metadata": {
    "collapsed": false
   },
   "outputs": [
    {
     "name": "stdout",
     "output_type": "stream",
     "text": [
      "success\n"
     ]
    }
   ],
   "source": [
    "from bs4 import BeautifulSoup\n",
    "import requests\n",
    "from selenium import webdriver\n",
    "import time\n",
    "\n",
    "fp = webdriver.FirefoxProfile('C:\\\\Users\\\\Kathleen\\\\AppData\\\\Local\\\\Mozilla\\\\Firefox\\\\Profiles\\\\hwxv4yvh.ailalink_scraper')\n",
    "driver = webdriver.Firefox(firefox_profile=fp)\n",
    "driver.get('http://www.github.com')\n",
    "logins = driver.find_elements_by_css_selector(\"a[href*='/login']\")\n",
    "loginbutton = logins[0]\n",
    "loginbutton.click()\n",
    "\n",
    "username = driver.find_element_by_name(\"login\")\n",
    "password = driver.find_element_by_name(\"password\")\n",
    "username.send_keys(\"kmb232\")\n",
    "password.send_keys(\"webscraping101\")\n",
    "login_attempt = driver.find_element_by_name(\"commit\")\n",
    "login_attempt.click()\n",
    "print(\"success\")\n",
    "#driver.quit()\n",
    "\n",
    "#driver.get(\"https://github.com/necaris/pythonlab-classes\")\n",
    "#title = driver.find_element_by_class_name(\"author\")\n",
    "#page_title = title.text\n",
    "#print(page_title)\n",
    "\n",
    "#driver.get(\"https://github.com/dcpydojo/april-2016\")\n",
    "#title2 = driver.find_element_by_class_name(\"author\")\n",
    "#page_title2 = title2.text\n",
    "#print(page_title2)"
   ]
  },
  {
   "cell_type": "code",
   "execution_count": 2,
   "metadata": {
    "collapsed": false
   },
   "outputs": [
    {
     "ename": "IndexError",
     "evalue": "list index out of range",
     "output_type": "error",
     "traceback": [
      "\u001b[1;31m---------------------------------------------------------------------------\u001b[0m",
      "\u001b[1;31mIndexError\u001b[0m                                Traceback (most recent call last)",
      "\u001b[1;32m<ipython-input-2-aef8e0008dea>\u001b[0m in \u001b[0;36m<module>\u001b[1;34m()\u001b[0m\n\u001b[0;32m      8\u001b[0m \u001b[0mdriver\u001b[0m\u001b[1;33m.\u001b[0m\u001b[0mget\u001b[0m\u001b[1;33m(\u001b[0m\u001b[1;34m'http://www.github.com'\u001b[0m\u001b[1;33m)\u001b[0m\u001b[1;33m\u001b[0m\u001b[0m\n\u001b[0;32m      9\u001b[0m \u001b[0mlogins\u001b[0m \u001b[1;33m=\u001b[0m \u001b[0mdriver\u001b[0m\u001b[1;33m.\u001b[0m\u001b[0mfind_elements_by_css_selector\u001b[0m\u001b[1;33m(\u001b[0m\u001b[1;34m\"a[href*='/login']\"\u001b[0m\u001b[1;33m)\u001b[0m\u001b[1;33m\u001b[0m\u001b[0m\n\u001b[1;32m---> 10\u001b[1;33m \u001b[0mloginbutton\u001b[0m \u001b[1;33m=\u001b[0m \u001b[0mlogins\u001b[0m\u001b[1;33m[\u001b[0m\u001b[1;36m0\u001b[0m\u001b[1;33m]\u001b[0m\u001b[1;33m\u001b[0m\u001b[0m\n\u001b[0m\u001b[0;32m     11\u001b[0m \u001b[0mloginbutton\u001b[0m\u001b[1;33m.\u001b[0m\u001b[0mclick\u001b[0m\u001b[1;33m(\u001b[0m\u001b[1;33m)\u001b[0m\u001b[1;33m\u001b[0m\u001b[0m\n\u001b[0;32m     12\u001b[0m \u001b[1;33m\u001b[0m\u001b[0m\n",
      "\u001b[1;31mIndexError\u001b[0m: list index out of range"
     ]
    }
   ],
   "source": [
    "from bs4 import BeautifulSoup\n",
    "import requests\n",
    "from selenium import webdriver\n",
    "import time\n",
    "\n",
    "fp = webdriver.FirefoxProfile('C:\\\\Users\\\\Kathleen\\\\AppData\\\\Roaming\\\\Mozilla\\\\Firefox\\\\Profiles\\\\cfc3dns7.default')\n",
    "driver = webdriver.Firefox(firefox_profile=fp)\n",
    "driver.get('http://www.github.com')\n",
    "logins = driver.find_elements_by_css_selector(\"a[href*='/login']\")\n",
    "loginbutton = logins[0]\n",
    "loginbutton.click()\n",
    "\n",
    "username = driver.find_element_by_name(\"login\")\n",
    "password = driver.find_element_by_name(\"password\")\n",
    "username.send_keys(\"kmb232\")\n",
    "password.send_keys(\"webscraping101\")\n",
    "login_attempt = driver.find_element_by_name(\"commit\")\n",
    "login_attempt.click()\n",
    "print(\"success\")\n",
    "#driver.quit()\n",
    "\n",
    "#driver.get(\"https://github.com/necaris/pythonlab-classes\")\n",
    "#title = driver.find_element_by_class_name(\"author\")\n",
    "#page_title = title.text\n",
    "#print(page_title)\n",
    "\n",
    "#driver.get(\"https://github.com/dcpydojo/april-2016\")\n",
    "#title2 = driver.find_element_by_class_name(\"author\")\n",
    "#page_title2 = title2.text\n",
    "#print(page_title2)"
   ]
  },
  {
   "cell_type": "code",
   "execution_count": 25,
   "metadata": {
    "collapsed": true
   },
   "outputs": [],
   "source": []
  },
  {
   "cell_type": "code",
   "execution_count": 26,
   "metadata": {
    "collapsed": false
   },
   "outputs": [],
   "source": []
  },
  {
   "cell_type": "code",
   "execution_count": null,
   "metadata": {
    "collapsed": true
   },
   "outputs": [],
   "source": []
  }
 ],
 "metadata": {
  "kernelspec": {
   "display_name": "Python 3",
   "language": "python",
   "name": "python3"
  },
  "language_info": {
   "codemirror_mode": {
    "name": "ipython",
    "version": 3
   },
   "file_extension": ".py",
   "mimetype": "text/x-python",
   "name": "python",
   "nbconvert_exporter": "python",
   "pygments_lexer": "ipython3",
   "version": "3.5.1"
  }
 },
 "nbformat": 4,
 "nbformat_minor": 0
}

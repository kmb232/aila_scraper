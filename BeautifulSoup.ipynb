{
 "cells": [
  {
   "cell_type": "code",
   "execution_count": 27,
   "metadata": {
    "collapsed": false
   },
   "outputs": [
    {
     "name": "stderr",
     "output_type": "stream",
     "text": [
      "c:\\users\\kathleen\\appdata\\local\\continuum\\anaconda3\\envs\\scraper\\lib\\site-packages\\bs4\\__init__.py:166: UserWarning: No parser was explicitly specified, so I'm using the best available HTML parser for this system (\"html.parser\"). This usually isn't a problem, but if you run this code on another system, or in a different virtual environment, it may use a different parser and behave differently.\n",
      "\n",
      "To get rid of this warning, change this:\n",
      "\n",
      " BeautifulSoup([your markup])\n",
      "\n",
      "to this:\n",
      "\n",
      " BeautifulSoup([your markup], \"html.parser\")\n",
      "\n",
      "  markup_type=markup_type))\n"
     ]
    }
   ],
   "source": [
    "from bs4 import BeautifulSoup\n",
    "\n",
    "soup = BeautifulSoup(\"\"\"<div id=\"content\">\n",
    "\t\t<div id=\"document-content-bar\">\n",
    "\t\t\t<div class=\"layout\"> <span id=\"doc-title\">/ <a href=\"/#documents/9\" class=\"crumb\">Statutes and Regs</a> / <a href=\"/#documents/10\" class=\"crumb\">INA</a> / <a href=\"/#documents/18\" class=\"crumb\">Title II (§§201-95) -- Immigration</a> / <a href=\"/#documents/120\" class=\"crumb\">Ch. 5 (§§245-50) -- Deportation; Adjustment of Status</a> / <a href=\"/#documents/138\" class=\"crumb\">Sec. 247 Adjustment of Status of Certain Resident Aliens to Nonimmigrant Status; Exceptions [8 U.S.C. 1257] <leg hist=\"\"></leg></a></span> </div>\n",
    "\t\t</div>\n",
    "\t    <div id=\"main-view-container\" style=\"margin-top: 0px; top: 75px;\">\n",
    "\t        <div class=\"add_footer\" id=\"main-view\" style=\"bottom: 0px;\">\n",
    "\t            <div class=\"layout document\">\n",
    "\t                <div class=\"document-body formattable small-type sans-serif-type highlights-off\" id=\"document-view\" style=\"color: #000000\">\n",
    "\n",
    "\n",
    "<a name=\"jd_ina247\"></a><a name=\"jd_8usc1257\"></a>\n",
    "<h1>Sec. <strong><span class=\"INACitation\">247</span> [<span class=\"USCCitation\">1257</span>]</strong> Adjustment of Status of Certain Resident Aliens to Nonimmigrant Status; Exceptions<br />\n",
    "[8 U.S.C. 1257] <a data-url=\"statutesre_ina_titleii201_ch524550de_sec247adjustmentstatuscertainresidentaliensnonimmigrant\" href=\"/#documents/statutesre_ina_titleii201_ch524550de_sec247adjustmentstatuscertainresidentaliensnonimmigrant/jd_leghist_247\">&lt;Leg Hist&gt;</a></h1>\n",
    "\n",
    "<p><strong><span class=\"INACitation\">247(a)</span> [<span class=\"USCCitation\">1257(a)</span>]</strong> The status of an alien lawfully admitted for permanent residence shall be adjusted by the Attorney General, under such regulations as he may prescribe, to that of a nonimmigrant under <a data-url=\"statutesre_ina_titlei1010_sec101definitions8usc1101ltleghistgt\" href=\"/#documents/statutesre_ina_titlei1010_sec101definitions8usc1101ltleghistgt/jd_ina101a15a\">paragraph (15)(A)</a>, <a data-url=\"statutesre_ina_titlei1010_sec101definitions8usc1101ltleghistgt\" href=\"/#documents/statutesre_ina_titlei1010_sec101definitions8usc1101ltleghistgt/jd_ina101a15e\">(15)(E)</a>, or <a data-url=\"statutesre_ina_titlei1010_sec101definitions8usc1101ltleghistgt\" href=\"/#documents/statutesre_ina_titlei1010_sec101definitions8usc1101ltleghistgt/jd_ina101a15g\">(15)(G) of section 101(a)</a>, if such alien had at the time of admission or subsequently acquires an occupational status which would, if he were seeking admission to the United States, entitle him to a nonimmigrant status under such sections. As of the date of the Attorney General's order making such adjustment of status, the Attorney General shall cancel the record of the alien's admission for permanent residence, and the immigrant status of such alien shall thereby be terminated.</p>\n",
    "<a name=\"jd_ina247a\"></a>\n",
    "\n",
    "<p><strong><span class=\"INACitation\">247(b)</span> [<span class=\"USCCitation\">1257(b)</span>]</strong> The adjustment of status required by <a data-url=\"statutesre_ina_titleii201_ch524550de_sec247adjustmentstatuscertainresidentaliensnonimmigrant\" href=\"/#documents/statutesre_ina_titleii201_ch524550de_sec247adjustmentstatuscertainresidentaliensnonimmigrant/jd_ina247a\">subsection (a)</a> shall not be applicable in the case of any alien who requests that he be permitted to retain his status as an immigrant and who, in such form as the Attorney General may require, executes and files with the Attorney General a written waiver of all rights, privileges, exemptions, and immunities under any law or any executive order which would otherwise accrue to him because of the acquisition of an occupational status entitling him to a nonimmigrant status under <a data-url=\"statutesre_ina_titlei1010_sec101definitions8usc1101ltleghistgt\" href=\"/#documents/statutesre_ina_titlei1010_sec101definitions8usc1101ltleghistgt/jd_ina101a15a\">paragraph (15)(A)</a>, <a data-url=\"statutesre_ina_titlei1010_sec101definitions8usc1101ltleghistgt\" href=\"/#documents/statutesre_ina_titlei1010_sec101definitions8usc1101ltleghistgt/jd_ina101a15e\">(15)(E)</a>, or <a data-url=\"statutesre_ina_titlei1010_sec101definitions8usc1101ltleghistgt\" href=\"/#documents/statutesre_ina_titlei1010_sec101definitions8usc1101ltleghistgt/jd_ina101a15g\">(15)(G) of section 101(a)</a>.</p>\n",
    "<a name=\"jd_ina247b\"></a>\n",
    "\n",
    "<a name=\"jd_leghist_247\"></a>\n",
    "<p><strong>Legislative history</strong> (June 27, 1952, ch. 477, title II, ch. 5, Sec. 247; P.L. 104-208 (IIRAIRA) (9/30/96), div. C, title III, <a data-url=\"520\" href=\"/#documents/520\">§308</a> [revising (a)].)</p>\n",
    "\n",
    "\n",
    "\n",
    "</div>\n",
    "\t                <div class=\"document-legal-notes\" id=\"document-legal-notes\">\n",
    "\t                </div>\n",
    "\t                <div id=\"match-limit-modal\">\n",
    "\t                    <span id=\"match-limit-message\">You have reached the first match in this document.</span>\n",
    "\t                </div>\n",
    "\t            </div>\n",
    "        \t    <div data-content-id=\"FOOTER\" class=\"dynamic-content footer content-loaded\">Copyright © 2016 American Immigration Lawyers Association.<br />  No copyright claimed on U.S. government material.</div>\n",
    "\t        </div>\n",
    "\t        <div id=\"notes-panel\" style=\"display: none; bottom: -180px;\">\n",
    "\t            <div class=\"notes-line-container ui-draggable\" id=\"notes-top-line-container\">\n",
    "\t                <div class=\"notes-line\" id=\"notes-top-line\"></div>\n",
    "\t            </div>\n",
    "                <div class=\"layout\">\n",
    "\t                <span class=\"icon-close\"></span>\n",
    "\t                <h2>My Document Notes</h2>\n",
    "\t                <div id=\"notes-panel-view\"></div>\n",
    "\t            </div>\n",
    "\t        </div>\n",
    "\t    </div>\n",
    "\t    <!-- can also set the id to content key both will work -->\n",
    "\t\t<div style=\"width: 250px;\" id=\"side-pane\">\n",
    "\t\t\t<ul class=\"menu-title-list\">\n",
    "\t\t\t\t<li id=\"tab-toc\">\n",
    "\t\t\t\t    <h4 data-target=\"toc-list\" class=\"content-menu-title on\">Contents</h4>\n",
    "\t\t\t\t</li>\n",
    "\t\t\t\t<li class=\"passive\" id=\"tab-results\">\n",
    "\t\t\t\t\t<h4 data-target=\"results-menu\" class=\"search-result-title\">Search Results</h4>\n",
    "\t\t\t\t</li>\n",
    "\t\t\t</ul>\n",
    "\t\t\t<div class=\"layout\">\n",
    "\t\t\t\t<div class=\"content-list on\" id=\"toc-list\">\n",
    "\t\t\t\t\t<ul data-id=\"root-toc\" id=\"item-root-toc\" class=\"root\"><li data-cached=\"false\" data-id=\"9\" data-filetype=\"html\" class=\"root branch expanded\" id=\"li-9\"><span data-id=\"9\" class=\"toc-menu-item clearfix item-expanded\" id=\"menu-item-9\"><span class=\"icon\"></span><a data-cached=\"false\" data-id=\"9\" id=\"item-9\" href=\"/#documents/9\"><span class=\"label\">Statutes and Regs</span></a></span><ul><li data-cached=\"false\" data-id=\"10\" data-filetype=\"html\" class=\"root branch expanded first\" id=\"li-10\"><span data-id=\"10\" class=\"toc-menu-item clearfix item-expanded\" id=\"menu-item-10\"><span class=\"icon\"></span><a data-cached=\"false\" data-id=\"10\" id=\"item-10\" href=\"/#documents/10\"><span class=\"label\">INA</span></a></span><ul><li data-cached=\"false\" data-id=\"11\" data-filetype=\"html\" class=\"root branch collapsed first\" id=\"li-11\"><span data-id=\"11\" class=\"toc-menu-item clearfix\" id=\"menu-item-11\"><span class=\"icon\"></span><a data-cached=\"false\" data-id=\"11\" id=\"item-11\" href=\"/#documents/11\"><span class=\"label\">Title I (§§101-06) -- General Provisions</span></a></span></li><li data-cached=\"false\" data-id=\"18\" data-filetype=\"html\" class=\"root branch expanded\" id=\"li-18\"><span data-id=\"18\" class=\"toc-menu-item clearfix item-expanded\" id=\"menu-item-18\"><span class=\"icon\"></span><a data-cached=\"false\" data-id=\"18\" id=\"item-18\" href=\"/#documents/18\"><span class=\"label\">Title II (§§201-95) -- Immigration</span></a></span><ul><li data-cached=\"false\" data-id=\"19\" data-filetype=\"html\" class=\"root branch collapsed first\" id=\"li-19\"><span data-id=\"19\" class=\"toc-menu-item clearfix\" id=\"menu-item-19\"><span class=\"icon\"></span><a data-cached=\"false\" data-id=\"19\" id=\"item-19\" href=\"/#documents/19\"><span class=\"label\">Ch. 1 (§§201-10A) -- Selection System</span></a></span></li><li data-cached=\"false\" data-id=\"31\" data-filetype=\"html\" class=\"root branch collapsed\" id=\"li-31\"><span data-id=\"31\" class=\"toc-menu-item clearfix\" id=\"menu-item-31\"><span class=\"icon\"></span><a data-cached=\"false\" data-id=\"31\" id=\"item-31\" href=\"/#documents/31\"><span class=\"label\">Ch. 2 (§§211-19) -- Admission Qualifications for Aliens; Travel Control of Citizens and Aliens</span></a></span></li><li data-cached=\"false\" data-id=\"84\" data-filetype=\"html\" class=\"root branch collapsed\" id=\"li-84\"><span data-id=\"84\" class=\"toc-menu-item clearfix\" id=\"menu-item-84\"><span class=\"icon\"></span><a data-cached=\"false\" data-id=\"84\" id=\"item-84\" href=\"/#documents/84\"><span class=\"label\">Ch. 3 (§§221-24) -- Issuance of Entry Documents</span></a></span></li><li data-cached=\"false\" data-id=\"89\" data-filetype=\"html\" class=\"root branch collapsed\" id=\"li-89\"><span data-id=\"89\" class=\"toc-menu-item clearfix\" id=\"menu-item-89\"><span class=\"icon\"></span><a data-cached=\"false\" data-id=\"89\" id=\"item-89\" href=\"/#documents/89\"><span class=\"label\">Ch. 4 (§§231-44) -- Inspection, Apprehension, Examination, Exclusion, and Removal</span></a></span></li><li data-cached=\"false\" data-id=\"120\" data-filetype=\"html\" class=\"root branch expanded\" id=\"li-120\"><span data-id=\"120\" class=\"toc-menu-item clearfix item-expanded\" id=\"menu-item-120\"><span class=\"icon\"></span><a data-cached=\"false\" data-id=\"120\" id=\"item-120\" href=\"/#documents/120\"><span class=\"label\">Ch. 5 (§§245-50) -- Deportation; Adjustment of Status</span></a></span><ul><li data-cached=\"false\" data-id=\"121\" data-filetype=\"html\" class=\"root branch collapsed first\" id=\"li-121\"><span data-id=\"121\" class=\"toc-menu-item clearfix\" id=\"menu-item-121\"><span class=\"icon\"></span><a data-cached=\"false\" data-id=\"121\" id=\"item-121\" href=\"/#documents/121\"><span class=\"label\">Sec. 245 Adjustment of Status of Nonimmigrant to that of Person Admitted for Permanent Residence. [8 U.S.C. 1255] &lt;Leg Hist&gt;</span></a></span></li><li data-id=\"136\" data-filetype=\"html\" class=\"root leaf\" id=\"li-136\"><span data-id=\"136\" class=\"toc-menu-item clearfix\" id=\"menu-item-136\"><a data-id=\"136\" id=\"item-136\" href=\"/#documents/136\"><span class=\"label\">Sec. 245A Adjustment of Status of Certain Entrants before January 1, 1982, to that of Person Admitted for Lawful Residence [8 U.S.C. 1255a] &lt;Leg Hist&gt;</span></a></span></li><li data-id=\"137\" data-filetype=\"html\" class=\"root leaf\" id=\"li-137\"><span data-id=\"137\" class=\"toc-menu-item clearfix\" id=\"menu-item-137\"><a data-id=\"137\" id=\"item-137\" href=\"/#documents/137\"><span class=\"label\">Sec. 246 Rescission of Adjustment of Status; Effect upon Naturalized Citizen.  [8 U.S.C. 1256] &lt;Leg Hist&gt;</span></a></span></li><li data-id=\"138\" data-filetype=\"html\" class=\"root leaf\" id=\"li-138\" data-cached=\"true\"><span data-id=\"138\" class=\"toc-menu-item clearfix item-selected\" id=\"menu-item-138\"><a data-id=\"138\" id=\"item-138\" href=\"/#documents/138\" data-cached=\"true\"><span class=\"label\">Sec. 247 Adjustment of Status of Certain Resident Aliens to Nonimmigrant Status; Exceptions [8 U.S.C. 1257] &lt;Leg Hist&gt;</span></a></span></li><li data-id=\"139\" data-filetype=\"html\" class=\"root leaf\" id=\"li-139\"><span data-id=\"139\" class=\"toc-menu-item clearfix\" id=\"menu-item-139\"><a data-id=\"139\" id=\"item-139\" href=\"/#documents/139\"><span class=\"label\">Sec. 248 Change of Nonimmigrant Classification  [8 U.S.C. 1258] &lt;Leg Hist&gt;</span></a></span></li><li data-id=\"140\" data-filetype=\"html\" class=\"root leaf\" id=\"li-140\"><span data-id=\"140\" class=\"toc-menu-item clearfix\" id=\"menu-item-140\"><a data-id=\"140\" id=\"item-140\" href=\"/#documents/140\"><span class=\"label\">Sec. 249 Record of Admission for Permanent Residence in the Case of Certain Aliens Who Entered the United States Prior to January 1, 1972  [8 U.S.C. 1259] &lt;Leg Hist&gt;</span></a></span></li><li data-id=\"141\" data-filetype=\"html\" class=\"root leaf last\" id=\"li-141\"><span data-id=\"141\" class=\"toc-menu-item clearfix\" id=\"menu-item-141\"><a data-id=\"141\" id=\"item-141\" href=\"/#documents/141\"><span class=\"label\">Sec. 250 Removal of Aliens Falling into Distress [8 U.S.C. 1260] &lt;Leg Hist&gt;</span></a></span></li></ul></li><li data-cached=\"false\" data-id=\"142\" data-filetype=\"html\" class=\"root branch collapsed\" id=\"li-142\"><span data-id=\"142\" class=\"toc-menu-item clearfix\" id=\"menu-item-142\"><span class=\"icon\"></span><a data-cached=\"false\" data-id=\"142\" id=\"item-142\" href=\"/#documents/142\"><span class=\"label\">Ch. 6 (§§251-58) -- Special Provisions Relating to Alien Crewman</span></a></span></li><li data-cached=\"false\" data-id=\"151\" data-filetype=\"html\" class=\"root branch collapsed\" id=\"li-151\"><span data-id=\"151\" class=\"toc-menu-item clearfix\" id=\"menu-item-151\"><span class=\"icon\"></span><a data-cached=\"false\" data-id=\"151\" id=\"item-151\" href=\"/#documents/151\"><span class=\"label\">Ch. 7 (§§261-66) -- Registration of Aliens</span></a></span></li><li data-cached=\"false\" data-id=\"158\" data-filetype=\"html\" class=\"root branch collapsed\" id=\"li-158\"><span data-id=\"158\" class=\"toc-menu-item clearfix\" id=\"menu-item-158\"><span class=\"icon\"></span><a data-cached=\"false\" data-id=\"158\" id=\"item-158\" href=\"/#documents/158\"><span class=\"label\">Ch. 8 (§§271-80) -- General Penalty Provisions</span></a></span></li><li data-cached=\"false\" data-id=\"173\" data-filetype=\"html\" class=\"root branch collapsed last\" id=\"li-173\"><span data-id=\"173\" class=\"toc-menu-item clearfix\" id=\"menu-item-173\"><span class=\"icon\"></span><a data-cached=\"false\" data-id=\"173\" id=\"item-173\" href=\"/#documents/173\"><span class=\"label\">Ch. 9 (§§281-95) -- Miscellaneous</span></a></span></li></ul></li><li data-cached=\"false\" data-id=\"189\" data-filetype=\"html\" class=\"root branch collapsed\" id=\"li-189\"><span data-id=\"189\" class=\"toc-menu-item clearfix\" id=\"menu-item-189\"><span class=\"icon\"></span><a data-cached=\"false\" data-id=\"189\" id=\"item-189\" href=\"/#documents/189\"><span class=\"label\">Title III (§§301-61) -- Nationality and Naturalization</span></a></span></li><li data-cached=\"false\" data-id=\"253\" data-filetype=\"html\" class=\"root branch collapsed\" id=\"li-253\"><span data-id=\"253\" class=\"toc-menu-item clearfix\" id=\"menu-item-253\"><span class=\"icon\"></span><a data-cached=\"false\" data-id=\"253\" id=\"item-253\" href=\"/#documents/253\"><span class=\"label\">Title IV (§§401-14) -- Refugee Assistance</span></a></span></li><li data-cached=\"false\" data-id=\"266\" data-filetype=\"html\" class=\"root branch collapsed last\" id=\"li-266\"><span data-id=\"266\" class=\"toc-menu-item clearfix\" id=\"menu-item-266\"><span class=\"icon\"></span><a data-cached=\"false\" data-id=\"266\" id=\"item-266\" href=\"/#documents/266\"><span class=\"label\">Title V (§§501-07) -- Alien Terrorist Removal Procedures</span></a></span></li></ul></li><li data-cached=\"false\" data-id=\"274\" data-filetype=\"html\" class=\"root branch collapsed\" id=\"li-274\"><span data-id=\"274\" class=\"toc-menu-item clearfix\" id=\"menu-item-274\"><span class=\"icon\"></span><a data-cached=\"false\" data-id=\"274\" id=\"item-274\" href=\"/#documents/274\"><span class=\"label\">8 USC Provisions Not in INA</span></a></span></li><li data-cached=\"false\" data-id=\"308\" data-filetype=\"html\" class=\"root branch collapsed\" id=\"li-308\"><span data-id=\"308\" class=\"toc-menu-item clearfix\" id=\"menu-item-308\"><span class=\"icon\"></span><a data-cached=\"false\" data-id=\"308\" id=\"item-308\" href=\"/#documents/308\"><span class=\"label\">Addl Statutory Provisions</span></a></span></li><li data-cached=\"false\" data-id=\"315\" data-filetype=\"html\" class=\"root branch collapsed\" id=\"li-315\"><span data-id=\"315\" class=\"toc-menu-item clearfix\" id=\"menu-item-315\"><span class=\"icon\"></span><a data-cached=\"false\" data-id=\"315\" id=\"item-315\" href=\"/#documents/315\"><span class=\"label\">Public Laws</span></a></span></li><li data-cached=\"false\" data-id=\"526\" data-filetype=\"html\" class=\"root branch collapsed\" id=\"li-526\"><span data-id=\"526\" class=\"toc-menu-item clearfix\" id=\"menu-item-526\"><span class=\"icon\"></span><a data-cached=\"false\" data-id=\"526\" id=\"item-526\" href=\"/#documents/526\"><span class=\"label\">CFR</span></a></span></li><li data-cached=\"false\" data-id=\"8599\" data-filetype=\"html\" class=\"root branch collapsed\" id=\"li-8599\"><span data-id=\"8599\" class=\"toc-menu-item clearfix\" id=\"menu-item-8599\"><span class=\"icon\"></span><a data-cached=\"false\" data-id=\"8599\" id=\"item-8599\" href=\"/#documents/8599\"><span class=\"label\">Federal Register Rules and Notices</span></a></span></li></ul></li><li data-cached=\"false\" data-id=\"10290\" data-filetype=\"html\" class=\"root branch collapsed\" id=\"li-10290\"><span data-id=\"10290\" class=\"toc-menu-item clearfix\" id=\"menu-item-10290\"><span class=\"icon\"></span><a data-cached=\"false\" data-id=\"10290\" id=\"item-10290\" href=\"/#documents/10290\"><span class=\"label\">Court and Admin Decisions</span></a></span></li><li data-cached=\"false\" data-id=\"17045\" data-filetype=\"html\" class=\"root branch collapsed\" id=\"li-17045\"><span data-id=\"17045\" class=\"toc-menu-item clearfix\" id=\"menu-item-17045\"><span class=\"icon\"></span><a data-cached=\"false\" data-id=\"17045\" id=\"item-17045\" href=\"/#documents/17045\"><span class=\"label\">Memos, Cables, and Minutes</span></a></span></li><li data-cached=\"false\" data-id=\"19824\" data-filetype=\"html\" class=\"root branch collapsed\" id=\"li-19824\"><span data-id=\"19824\" class=\"toc-menu-item clearfix\" id=\"menu-item-19824\"><span class=\"icon\"></span><a data-cached=\"false\" data-id=\"19824\" id=\"item-19824\" href=\"/#documents/19824\"><span class=\"label\">Other Primary Sources</span></a></span></li><li data-cached=\"false\" data-id=\"23377\" data-filetype=\"html\" class=\"root branch collapsed\" id=\"li-23377\"><span data-id=\"23377\" class=\"toc-menu-item clearfix\" id=\"menu-item-23377\"><span class=\"icon\"></span><a data-cached=\"false\" data-id=\"23377\" id=\"item-23377\" href=\"/#documents/23377\"><span class=\"label\">Government Manuals</span></a></span></li><li data-cached=\"false\" data-id=\"23734\" data-filetype=\"html\" class=\"root branch collapsed\" id=\"li-23734\"><span data-id=\"23734\" class=\"toc-menu-item clearfix\" id=\"menu-item-23734\"><span class=\"icon\"></span><a data-cached=\"false\" data-id=\"23734\" id=\"item-23734\" href=\"/#documents/23734\"><span class=\"label\">Forms</span></a></span></li><li data-cached=\"false\" data-id=\"23968\" data-filetype=\"html\" class=\"root branch collapsed\" id=\"li-23968\"><span data-id=\"23968\" class=\"toc-menu-item clearfix\" id=\"menu-item-23968\"><span class=\"icon\"></span><a data-cached=\"false\" data-id=\"23968\" id=\"item-23968\" href=\"/#documents/23968\"><span class=\"label\">AILA Books</span></a></span></li><li data-cached=\"false\" data-id=\"27350\" data-filetype=\"html\" class=\"root branch collapsed\" id=\"li-27350\"><span data-id=\"27350\" class=\"toc-menu-item clearfix\" id=\"menu-item-27350\"><span class=\"icon\"></span><a data-cached=\"false\" data-id=\"27350\" id=\"item-27350\" href=\"/#documents/27350\"><span class=\"label\">AILA Periodicals</span></a></span></li><li data-cached=\"false\" data-id=\"28744\" data-filetype=\"html\" class=\"root branch collapsed\" id=\"li-28744\"><span data-id=\"28744\" class=\"toc-menu-item clearfix\" id=\"menu-item-28744\"><span class=\"icon\"></span><a data-cached=\"false\" data-id=\"28744\" id=\"item-28744\" href=\"/#documents/28744\"><span class=\"label\">Internet Resources</span></a></span></li><li data-cached=\"false\" data-id=\"28760\" data-filetype=\"html\" class=\"root branch collapsed\" id=\"li-28760\"><span data-id=\"28760\" class=\"toc-menu-item clearfix\" id=\"menu-item-28760\"><span class=\"icon\"></span><a data-cached=\"false\" data-id=\"28760\" id=\"item-28760\" href=\"/#documents/28760\"><span class=\"label\">AILALink Help and Training</span></a></span></li></ul>\n",
    "\t\t\t\t</div>\n",
    "\t\t\t\t<div class=\"content-list off\" id=\"results-menu\">\n",
    "\t\t\t\t\t\n",
    "\t\t\t\t\t<!-- /results controls --> \n",
    "\t\t\t\t</div>\n",
    "\t\t\t\t<!-- /results menu --> \n",
    "\n",
    "\t\t\t    <a target=\"_blank\" href=\"/api/Fastcase\" class=\"fastcase-premium-link-large\">Fastcase</a>\n",
    "                \n",
    "                <div id=\"last-published\">Database Last Updated: 5/19/16</div>\n",
    "\t\t\t</div>\n",
    "\t\t</div>\n",
    "\t</div>\"\"\")"
   ]
  },
  {
   "cell_type": "code",
   "execution_count": 25,
   "metadata": {
    "collapsed": false
   },
   "outputs": [
    {
     "ename": "OSError",
     "evalue": "[WinError 6] The handle is invalid",
     "output_type": "error",
     "traceback": [
      "\u001b[1;31m---------------------------------------------------------------------------\u001b[0m",
      "\u001b[1;31mOSError\u001b[0m                                   Traceback (most recent call last)",
      "\u001b[1;32m<ipython-input-25-f3387a2f4adb>\u001b[0m in \u001b[0;36m<module>\u001b[1;34m()\u001b[0m\n\u001b[0;32m      4\u001b[0m \u001b[1;32mimport\u001b[0m \u001b[0mtime\u001b[0m\u001b[1;33m\u001b[0m\u001b[0m\n\u001b[0;32m      5\u001b[0m \u001b[0mfp\u001b[0m \u001b[1;33m=\u001b[0m \u001b[0mwebdriver\u001b[0m\u001b[1;33m.\u001b[0m\u001b[0mFirefoxProfile\u001b[0m\u001b[1;33m(\u001b[0m\u001b[1;34m'C:\\\\Users\\\\Kathleen\\\\AppData\\\\Roaming\\\\Mozilla\\\\Firefox\\\\Profiles\\\\cfc3dns7.default'\u001b[0m\u001b[1;33m)\u001b[0m\u001b[1;33m\u001b[0m\u001b[0m\n\u001b[1;32m----> 6\u001b[1;33m \u001b[0mdriver\u001b[0m \u001b[1;33m=\u001b[0m \u001b[0mwebdriver\u001b[0m\u001b[1;33m.\u001b[0m\u001b[0mFirefox\u001b[0m\u001b[1;33m(\u001b[0m\u001b[0mfirefox_profile\u001b[0m\u001b[1;33m=\u001b[0m\u001b[0mfp\u001b[0m\u001b[1;33m)\u001b[0m\u001b[1;33m\u001b[0m\u001b[0m\n\u001b[0m\u001b[0;32m      7\u001b[0m \u001b[1;33m\u001b[0m\u001b[0m\n\u001b[0;32m      8\u001b[0m \u001b[1;32mfor\u001b[0m \u001b[0mi\u001b[0m \u001b[1;32min\u001b[0m \u001b[0mrange\u001b[0m\u001b[1;33m(\u001b[0m\u001b[1;36m202\u001b[0m\u001b[1;33m,\u001b[0m\u001b[1;36m204\u001b[0m\u001b[1;33m)\u001b[0m\u001b[1;33m:\u001b[0m\u001b[1;33m\u001b[0m\u001b[0m\n",
      "\u001b[1;32mc:\\users\\kathleen\\appdata\\local\\continuum\\anaconda3\\envs\\scraper\\lib\\site-packages\\selenium\\webdriver\\firefox\\webdriver.py\u001b[0m in \u001b[0;36m__init__\u001b[1;34m(self, firefox_profile, firefox_binary, timeout, capabilities, proxy, executable_path, firefox_options)\u001b[0m\n\u001b[0;32m    101\u001b[0m \u001b[1;33m\u001b[0m\u001b[0m\n\u001b[0;32m    102\u001b[0m             executor = ExtensionConnection(\"127.0.0.1\", self.profile,\n\u001b[1;32m--> 103\u001b[1;33m                                            self.binary, timeout)\n\u001b[0m\u001b[0;32m    104\u001b[0m             RemoteWebDriver.__init__(self,\n\u001b[0;32m    105\u001b[0m                 \u001b[0mcommand_executor\u001b[0m\u001b[1;33m=\u001b[0m\u001b[0mexecutor\u001b[0m\u001b[1;33m,\u001b[0m\u001b[1;33m\u001b[0m\u001b[0m\n",
      "\u001b[1;32mc:\\users\\kathleen\\appdata\\local\\continuum\\anaconda3\\envs\\scraper\\lib\\site-packages\\selenium\\webdriver\\firefox\\extension_connection.py\u001b[0m in \u001b[0;36m__init__\u001b[1;34m(self, host, firefox_profile, firefox_binary, timeout)\u001b[0m\n\u001b[0;32m     49\u001b[0m         \u001b[0mself\u001b[0m\u001b[1;33m.\u001b[0m\u001b[0mprofile\u001b[0m\u001b[1;33m.\u001b[0m\u001b[0madd_extension\u001b[0m\u001b[1;33m(\u001b[0m\u001b[1;33m)\u001b[0m\u001b[1;33m\u001b[0m\u001b[0m\n\u001b[0;32m     50\u001b[0m \u001b[1;33m\u001b[0m\u001b[0m\n\u001b[1;32m---> 51\u001b[1;33m         \u001b[0mself\u001b[0m\u001b[1;33m.\u001b[0m\u001b[0mbinary\u001b[0m\u001b[1;33m.\u001b[0m\u001b[0mlaunch_browser\u001b[0m\u001b[1;33m(\u001b[0m\u001b[0mself\u001b[0m\u001b[1;33m.\u001b[0m\u001b[0mprofile\u001b[0m\u001b[1;33m,\u001b[0m \u001b[0mtimeout\u001b[0m\u001b[1;33m=\u001b[0m\u001b[0mtimeout\u001b[0m\u001b[1;33m)\u001b[0m\u001b[1;33m\u001b[0m\u001b[0m\n\u001b[0m\u001b[0;32m     52\u001b[0m         \u001b[0m_URL\u001b[0m \u001b[1;33m=\u001b[0m \u001b[1;34m\"http://%s:%d/hub\"\u001b[0m \u001b[1;33m%\u001b[0m \u001b[1;33m(\u001b[0m\u001b[0mHOST\u001b[0m\u001b[1;33m,\u001b[0m \u001b[0mPORT\u001b[0m\u001b[1;33m)\u001b[0m\u001b[1;33m\u001b[0m\u001b[0m\n\u001b[0;32m     53\u001b[0m         RemoteConnection.__init__(\n",
      "\u001b[1;32mc:\\users\\kathleen\\appdata\\local\\continuum\\anaconda3\\envs\\scraper\\lib\\site-packages\\selenium\\webdriver\\firefox\\firefox_binary.py\u001b[0m in \u001b[0;36mlaunch_browser\u001b[1;34m(self, profile, timeout)\u001b[0m\n\u001b[0;32m     65\u001b[0m         \u001b[0mself\u001b[0m\u001b[1;33m.\u001b[0m\u001b[0mprofile\u001b[0m \u001b[1;33m=\u001b[0m \u001b[0mprofile\u001b[0m\u001b[1;33m\u001b[0m\u001b[0m\n\u001b[0;32m     66\u001b[0m \u001b[1;33m\u001b[0m\u001b[0m\n\u001b[1;32m---> 67\u001b[1;33m         \u001b[0mself\u001b[0m\u001b[1;33m.\u001b[0m\u001b[0m_start_from_profile_path\u001b[0m\u001b[1;33m(\u001b[0m\u001b[0mself\u001b[0m\u001b[1;33m.\u001b[0m\u001b[0mprofile\u001b[0m\u001b[1;33m.\u001b[0m\u001b[0mpath\u001b[0m\u001b[1;33m)\u001b[0m\u001b[1;33m\u001b[0m\u001b[0m\n\u001b[0m\u001b[0;32m     68\u001b[0m         \u001b[0mself\u001b[0m\u001b[1;33m.\u001b[0m\u001b[0m_wait_until_connectable\u001b[0m\u001b[1;33m(\u001b[0m\u001b[0mtimeout\u001b[0m\u001b[1;33m=\u001b[0m\u001b[0mtimeout\u001b[0m\u001b[1;33m)\u001b[0m\u001b[1;33m\u001b[0m\u001b[0m\n\u001b[0;32m     69\u001b[0m \u001b[1;33m\u001b[0m\u001b[0m\n",
      "\u001b[1;32mc:\\users\\kathleen\\appdata\\local\\continuum\\anaconda3\\envs\\scraper\\lib\\site-packages\\selenium\\webdriver\\firefox\\firefox_binary.py\u001b[0m in \u001b[0;36m_start_from_profile_path\u001b[1;34m(self, path)\u001b[0m\n\u001b[0;32m     88\u001b[0m         self.process = Popen(\n\u001b[0;32m     89\u001b[0m             \u001b[0mcommand\u001b[0m\u001b[1;33m,\u001b[0m \u001b[0mstdout\u001b[0m\u001b[1;33m=\u001b[0m\u001b[0mself\u001b[0m\u001b[1;33m.\u001b[0m\u001b[0m_log_file\u001b[0m\u001b[1;33m,\u001b[0m \u001b[0mstderr\u001b[0m\u001b[1;33m=\u001b[0m\u001b[0mSTDOUT\u001b[0m\u001b[1;33m,\u001b[0m\u001b[1;33m\u001b[0m\u001b[0m\n\u001b[1;32m---> 90\u001b[1;33m             env=self._firefox_env)\n\u001b[0m\u001b[0;32m     91\u001b[0m \u001b[1;33m\u001b[0m\u001b[0m\n\u001b[0;32m     92\u001b[0m     \u001b[1;32mdef\u001b[0m \u001b[0m_wait_until_connectable\u001b[0m\u001b[1;33m(\u001b[0m\u001b[0mself\u001b[0m\u001b[1;33m,\u001b[0m \u001b[0mtimeout\u001b[0m\u001b[1;33m=\u001b[0m\u001b[1;36m30\u001b[0m\u001b[1;33m)\u001b[0m\u001b[1;33m:\u001b[0m\u001b[1;33m\u001b[0m\u001b[0m\n",
      "\u001b[1;32mc:\\users\\kathleen\\appdata\\local\\continuum\\anaconda3\\envs\\scraper\\lib\\subprocess.py\u001b[0m in \u001b[0;36m__init__\u001b[1;34m(self, args, bufsize, executable, stdin, stdout, stderr, preexec_fn, close_fds, shell, cwd, env, universal_newlines, startupinfo, creationflags, restore_signals, start_new_session, pass_fds)\u001b[0m\n\u001b[0;32m    843\u001b[0m                  pass_fds=()):\n\u001b[0;32m    844\u001b[0m         \u001b[1;34m\"\"\"Create new Popen instance.\"\"\"\u001b[0m\u001b[1;33m\u001b[0m\u001b[0m\n\u001b[1;32m--> 845\u001b[1;33m         \u001b[0m_cleanup\u001b[0m\u001b[1;33m(\u001b[0m\u001b[1;33m)\u001b[0m\u001b[1;33m\u001b[0m\u001b[0m\n\u001b[0m\u001b[0;32m    846\u001b[0m         \u001b[1;31m# Held while anything is calling waitpid before returncode has been\u001b[0m\u001b[1;33m\u001b[0m\u001b[1;33m\u001b[0m\u001b[0m\n\u001b[0;32m    847\u001b[0m         \u001b[1;31m# updated to prevent clobbering returncode if wait() or poll() are\u001b[0m\u001b[1;33m\u001b[0m\u001b[1;33m\u001b[0m\u001b[0m\n",
      "\u001b[1;32mc:\\users\\kathleen\\appdata\\local\\continuum\\anaconda3\\envs\\scraper\\lib\\subprocess.py\u001b[0m in \u001b[0;36m_cleanup\u001b[1;34m()\u001b[0m\n\u001b[0;32m    503\u001b[0m \u001b[1;32mdef\u001b[0m \u001b[0m_cleanup\u001b[0m\u001b[1;33m(\u001b[0m\u001b[1;33m)\u001b[0m\u001b[1;33m:\u001b[0m\u001b[1;33m\u001b[0m\u001b[0m\n\u001b[0;32m    504\u001b[0m     \u001b[1;32mfor\u001b[0m \u001b[0minst\u001b[0m \u001b[1;32min\u001b[0m \u001b[0m_active\u001b[0m\u001b[1;33m[\u001b[0m\u001b[1;33m:\u001b[0m\u001b[1;33m]\u001b[0m\u001b[1;33m:\u001b[0m\u001b[1;33m\u001b[0m\u001b[0m\n\u001b[1;32m--> 505\u001b[1;33m         \u001b[0mres\u001b[0m \u001b[1;33m=\u001b[0m \u001b[0minst\u001b[0m\u001b[1;33m.\u001b[0m\u001b[0m_internal_poll\u001b[0m\u001b[1;33m(\u001b[0m\u001b[0m_deadstate\u001b[0m\u001b[1;33m=\u001b[0m\u001b[0msys\u001b[0m\u001b[1;33m.\u001b[0m\u001b[0mmaxsize\u001b[0m\u001b[1;33m)\u001b[0m\u001b[1;33m\u001b[0m\u001b[0m\n\u001b[0m\u001b[0;32m    506\u001b[0m         \u001b[1;32mif\u001b[0m \u001b[0mres\u001b[0m \u001b[1;32mis\u001b[0m \u001b[1;32mnot\u001b[0m \u001b[1;32mNone\u001b[0m\u001b[1;33m:\u001b[0m\u001b[1;33m\u001b[0m\u001b[0m\n\u001b[0;32m    507\u001b[0m             \u001b[1;32mtry\u001b[0m\u001b[1;33m:\u001b[0m\u001b[1;33m\u001b[0m\u001b[0m\n",
      "\u001b[1;32mc:\\users\\kathleen\\appdata\\local\\continuum\\anaconda3\\envs\\scraper\\lib\\subprocess.py\u001b[0m in \u001b[0;36m_internal_poll\u001b[1;34m(self, _deadstate, _WaitForSingleObject, _WAIT_OBJECT_0, _GetExitCodeProcess)\u001b[0m\n\u001b[0;32m   1253\u001b[0m             \"\"\"\n\u001b[0;32m   1254\u001b[0m             \u001b[1;32mif\u001b[0m \u001b[0mself\u001b[0m\u001b[1;33m.\u001b[0m\u001b[0mreturncode\u001b[0m \u001b[1;32mis\u001b[0m \u001b[1;32mNone\u001b[0m\u001b[1;33m:\u001b[0m\u001b[1;33m\u001b[0m\u001b[0m\n\u001b[1;32m-> 1255\u001b[1;33m                 \u001b[1;32mif\u001b[0m \u001b[0m_WaitForSingleObject\u001b[0m\u001b[1;33m(\u001b[0m\u001b[0mself\u001b[0m\u001b[1;33m.\u001b[0m\u001b[0m_handle\u001b[0m\u001b[1;33m,\u001b[0m \u001b[1;36m0\u001b[0m\u001b[1;33m)\u001b[0m \u001b[1;33m==\u001b[0m \u001b[0m_WAIT_OBJECT_0\u001b[0m\u001b[1;33m:\u001b[0m\u001b[1;33m\u001b[0m\u001b[0m\n\u001b[0m\u001b[0;32m   1256\u001b[0m                     \u001b[0mself\u001b[0m\u001b[1;33m.\u001b[0m\u001b[0mreturncode\u001b[0m \u001b[1;33m=\u001b[0m \u001b[0m_GetExitCodeProcess\u001b[0m\u001b[1;33m(\u001b[0m\u001b[0mself\u001b[0m\u001b[1;33m.\u001b[0m\u001b[0m_handle\u001b[0m\u001b[1;33m)\u001b[0m\u001b[1;33m\u001b[0m\u001b[0m\n\u001b[0;32m   1257\u001b[0m             \u001b[1;32mreturn\u001b[0m \u001b[0mself\u001b[0m\u001b[1;33m.\u001b[0m\u001b[0mreturncode\u001b[0m\u001b[1;33m\u001b[0m\u001b[0m\n",
      "\u001b[1;31mOSError\u001b[0m: [WinError 6] The handle is invalid"
     ]
    }
   ],
   "source": [
    "from bs4 import BeautifulSoup\n",
    "import requests\n",
    "from selenium import webdriver\n",
    "import time\n",
    "fp = webdriver.FirefoxProfile('C:\\\\Users\\\\Kathleen\\\\AppData\\\\Roaming\\\\Mozilla\\\\Firefox\\\\Profiles\\\\cfc3dns7.default')\n",
    "driver = webdriver.Firefox(firefox_profile=fp)\n",
    "\n",
    "for i in range(202,204):\n",
    "    url = \"http://ailalink.aila.org/#documents/\" + str(i)\n",
    "    driver.get(url)\n",
    "    time.sleep(1)\n",
    "    content = driver.find_element_by_id(\"content\")\n",
    "    html = content.get_attribute('innerHTML')\n",
    "    soup = BeautifulSoup(html, \"html.parser\")\n",
    "    breadcrumb = soup.find(id=\"document-content-bar\")\n",
    "    print(breadcrumb)\n",
    "    \n",
    "driver.quit()\n"
   ]
  },
  {
   "cell_type": "code",
   "execution_count": 46,
   "metadata": {
    "collapsed": false
   },
   "outputs": [
    {
     "name": "stdout",
     "output_type": "stream",
     "text": [
      "jd_ina247a\n",
      "jd_ina247b\n"
     ]
    },
    {
     "ename": "AttributeError",
     "evalue": "'NoneType' object has no attribute 'get'",
     "output_type": "error",
     "traceback": [
      "\u001b[1;31m---------------------------------------------------------------------------\u001b[0m",
      "\u001b[1;31mAttributeError\u001b[0m                            Traceback (most recent call last)",
      "\u001b[1;32m<ipython-input-46-ffec0d023ed9>\u001b[0m in \u001b[0;36m<module>\u001b[1;34m()\u001b[0m\n\u001b[0;32m      2\u001b[0m \u001b[1;32mfor\u001b[0m \u001b[0mitem\u001b[0m \u001b[1;32min\u001b[0m \u001b[0mparas\u001b[0m\u001b[1;33m:\u001b[0m\u001b[1;33m\u001b[0m\u001b[0m\n\u001b[0;32m      3\u001b[0m     \u001b[0mlink\u001b[0m \u001b[1;33m=\u001b[0m \u001b[0mitem\u001b[0m\u001b[1;33m.\u001b[0m\u001b[0mfind_next_sibling\u001b[0m\u001b[1;33m(\u001b[0m\u001b[1;34m\"a\"\u001b[0m\u001b[1;33m)\u001b[0m\u001b[1;33m\u001b[0m\u001b[0m\n\u001b[1;32m----> 4\u001b[1;33m     \u001b[0mjump\u001b[0m \u001b[1;33m=\u001b[0m \u001b[0mlink\u001b[0m\u001b[1;33m.\u001b[0m\u001b[0mget\u001b[0m\u001b[1;33m(\u001b[0m\u001b[1;34m'name'\u001b[0m\u001b[1;33m)\u001b[0m\u001b[1;33m\u001b[0m\u001b[0m\n\u001b[0m\u001b[0;32m      5\u001b[0m     \u001b[0mprint\u001b[0m\u001b[1;33m(\u001b[0m\u001b[0mjump\u001b[0m\u001b[1;33m)\u001b[0m\u001b[1;33m\u001b[0m\u001b[0m\n",
      "\u001b[1;31mAttributeError\u001b[0m: 'NoneType' object has no attribute 'get'"
     ]
    }
   ],
   "source": [
    "paras = soup.find_all(\"p\")\n",
    "for item in paras:\n",
    "    link = item.find_next_sibling(\"a\")\n",
    "    jump = link.get('name')\n",
    "    print(jump)"
   ]
  },
  {
   "cell_type": "code",
   "execution_count": 44,
   "metadata": {
    "collapsed": false
   },
   "outputs": [],
   "source": [
    "linkcite = next(span.string for span in soup.find(\"span\",class_=\"INACitation\") for h1 in soup.find('h1'))"
   ]
  },
  {
   "cell_type": "code",
   "execution_count": 39,
   "metadata": {
    "collapsed": false
   },
   "outputs": [
    {
     "name": "stdout",
     "output_type": "stream",
     "text": [
      "<h1>Sec. <strong><span class=\"INACitation\">247</span> [<span class=\"USCCitation\">1257</span>]</strong> Adjustment of Status of Certain Resident Aliens to Nonimmigrant Status; Exceptions<br/>\n",
      "[8 U.S.C. 1257] <a data-url=\"statutesre_ina_titleii201_ch524550de_sec247adjustmentstatuscertainresidentaliensnonimmigrant\" href=\"/#documents/statutesre_ina_titleii201_ch524550de_sec247adjustmentstatuscertainresidentaliensnonimmigrant/jd_leghist_247\">&lt;Leg Hist&gt;</a></h1>\n"
     ]
    }
   ],
   "source": [
    "paras = soup.find_all(\"h1\")\n",
    "for item in paras:\n",
    "    print(item)"
   ]
  },
  {
   "cell_type": "code",
   "execution_count": 45,
   "metadata": {
    "collapsed": false
   },
   "outputs": [
    {
     "name": "stdout",
     "output_type": "stream",
     "text": [
      "247\n"
     ]
    }
   ],
   "source": [
    "print(linkcite)"
   ]
  },
  {
   "cell_type": "code",
   "execution_count": null,
   "metadata": {
    "collapsed": true
   },
   "outputs": [],
   "source": []
  }
 ],
 "metadata": {
  "kernelspec": {
   "display_name": "Python 3",
   "language": "python",
   "name": "python3"
  },
  "language_info": {
   "codemirror_mode": {
    "name": "ipython",
    "version": 3
   },
   "file_extension": ".py",
   "mimetype": "text/x-python",
   "name": "python",
   "nbconvert_exporter": "python",
   "pygments_lexer": "ipython3",
   "version": "3.5.1"
  }
 },
 "nbformat": 4,
 "nbformat_minor": 0
}
